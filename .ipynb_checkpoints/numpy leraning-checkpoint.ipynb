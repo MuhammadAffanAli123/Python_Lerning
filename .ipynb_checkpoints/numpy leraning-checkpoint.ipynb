{
 "cells": [
  {
   "cell_type": "markdown",
   "metadata": {},
   "source": [
    "# Numpy Learning\n"
   ]
  },
  {
   "cell_type": "code",
   "execution_count": 1,
   "metadata": {},
   "outputs": [],
   "source": [
    "# import Numpy\n",
    "import numpy as np"
   ]
  },
  {
   "cell_type": "code",
   "execution_count": 16,
   "metadata": {},
   "outputs": [
    {
     "name": "stdout",
     "output_type": "stream",
     "text": [
      "[1 2 3] [[1 2 3 4]\n",
      " [5 2 1 4]\n",
      " [3 1 4 5]]\n"
     ]
    }
   ],
   "source": [
    "a=np.array([1,2,3] , dtype=\"int8\")\n",
    "b=np.array([[1,2,3,4] , [5,2,1,4] , [3,1,4,5]])\n",
    "print(a , b)"
   ]
  },
  {
   "cell_type": "code",
   "execution_count": 19,
   "metadata": {},
   "outputs": [
    {
     "data": {
      "text/plain": [
       "(3,)"
      ]
     },
     "execution_count": 19,
     "metadata": {},
     "output_type": "execute_result"
    }
   ],
   "source": [
    "# shape Dimension\n",
    "a.shape"
   ]
  },
  {
   "cell_type": "code",
   "execution_count": 22,
   "metadata": {},
   "outputs": [
    {
     "data": {
      "text/plain": [
       "dtype('int32')"
      ]
     },
     "execution_count": 22,
     "metadata": {},
     "output_type": "execute_result"
    }
   ],
   "source": [
    "# type\n",
    "b.dtype"
   ]
  },
  {
   "cell_type": "code",
   "execution_count": 21,
   "metadata": {},
   "outputs": [
    {
     "data": {
      "text/plain": [
       "2"
      ]
     },
     "execution_count": 21,
     "metadata": {},
     "output_type": "execute_result"
    }
   ],
   "source": [
    "# Dimension \n",
    "b.ndim"
   ]
  },
  {
   "cell_type": "code",
   "execution_count": 39,
   "metadata": {},
   "outputs": [
    {
     "name": "stdout",
     "output_type": "stream",
     "text": [
      "4 Item byte \n",
      " complete Byte\n",
      "48 = 48 Combine byte\n"
     ]
    }
   ],
   "source": [
    "# Size\n",
    "print(b.itemsize , \"Item byte\" , \"\\n\",\"complete Byte\")\n",
    "print(  b.size * b.itemsize , \"=\", b.nbytes, \"Combine byte\" )"
   ]
  },
  {
   "cell_type": "code",
   "execution_count": 109,
   "metadata": {},
   "outputs": [
    {
     "name": "stdout",
     "output_type": "stream",
     "text": [
      "Array => \n",
      " [[  1   2   3   4   5]\n",
      " [ -1  -2  -3  -4  -5]\n",
      " [-10 -20 -30 -40 -50]] \n",
      " specific_value  =>  -20 \n",
      " specific_R0w  =>  [1 2 3 4 5] \n",
      " specific_Row_with_start_value =>  [3 4 5] \n",
      " specific_Column  =>  [  5  -5 -50] \n",
      " specific_Column_with_start_value =>  [ 3 -3]\n"
     ]
    }
   ],
   "source": [
    "# Get Specific Values\n",
    "c =np.array([[1,2,3,4,5] , [-1,-2,-3,-4,-5] , [-10,-20,-30,-40,-50]])\n",
    "\n",
    "# specific_Value\n",
    "specific_Value = c[2,1]\n",
    "\n",
    "\n",
    "# specific_Column\n",
    "specific_col = c[: ,4 ]\n",
    "\n",
    "# specific_Colum_with_start_value\n",
    "specific_col_with_start_value = c[: 2 ,2 ]\n",
    "\n",
    "# specific_Row\n",
    "specific_Row = c[0 , : ]\n",
    "\n",
    "# specific_Row_with_start_value\n",
    "specific_Row_with_start_value = c[0 ,2  : ]\n",
    "print(\"Array => \\n\" ,c , \"\\n specific_value  => \" ,  specific_Value ,\n",
    "'\\n', \"specific_R0w  => \", specific_Row , \n",
    "'\\n',\"specific_Row_with_start_value => \" , specific_Row_with_start_value\n",
    "     , '\\n',\"specific_Column  => \", specific_col, \n",
    "'\\n',\"specific_Column_with_start_value => \" , specific_col_with_start_value )"
   ]
  },
  {
   "cell_type": "markdown",
   "metadata": {},
   "source": [
    "#### "
   ]
  },
  {
   "cell_type": "code",
   "execution_count": null,
   "metadata": {},
   "outputs": [],
   "source": []
  }
 ],
 "metadata": {
  "kernelspec": {
   "display_name": "Python 3",
   "language": "python",
   "name": "python3"
  },
  "language_info": {
   "codemirror_mode": {
    "name": "ipython",
    "version": 3
   },
   "file_extension": ".py",
   "mimetype": "text/x-python",
   "name": "python",
   "nbconvert_exporter": "python",
   "pygments_lexer": "ipython3",
   "version": "3.8.5"
  }
 },
 "nbformat": 4,
 "nbformat_minor": 4
}
