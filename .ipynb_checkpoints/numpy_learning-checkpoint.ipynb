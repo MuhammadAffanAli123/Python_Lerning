{
 "cells": [
  {
   "cell_type": "markdown",
   "metadata": {},
   "source": [
    "# Numpy Learning\n"
   ]
  },
  {
   "cell_type": "code",
   "execution_count": null,
   "metadata": {},
   "outputs": [],
   "source": [
    "# import Numpy\n",
    "import numpy as np"
   ]
  },
  {
   "cell_type": "code",
   "execution_count": null,
   "metadata": {},
   "outputs": [],
   "source": [
    "a=np.array([1,2,3] , dtype=\"int8\")\n",
    "b=np.array([[1,2,3,4] , [5,2,1,4] , [3,1,4,5]])\n",
    "print(a , b)"
   ]
  },
  {
   "cell_type": "code",
   "execution_count": null,
   "metadata": {},
   "outputs": [],
   "source": [
    "# shape Dimension\n",
    "a.shape"
   ]
  },
  {
   "cell_type": "code",
   "execution_count": null,
   "metadata": {},
   "outputs": [],
   "source": [
    "# type\n",
    "b.dtype"
   ]
  },
  {
   "cell_type": "code",
   "execution_count": null,
   "metadata": {},
   "outputs": [],
   "source": [
    "# Dimension \n",
    "b.ndim"
   ]
  },
  {
   "cell_type": "code",
   "execution_count": null,
   "metadata": {},
   "outputs": [],
   "source": [
    "# Size\n",
    "print(b.itemsize , \"Item byte\" , \"\\n\",\"complete Byte\")\n",
    "print(  b.size * b.itemsize , \"=\", b.nbytes, \"Combine byte\" )"
   ]
  },
  {
   "cell_type": "code",
   "execution_count": null,
   "metadata": {},
   "outputs": [],
   "source": [
    "# Get Specific Values\n",
    "c =np.array([[1,2,3,4,5] , [-1,-2,-3,-4,-5] , [-10,-20,-30,-40,-50]])\n",
    "\n",
    "# specific_Value\n",
    "specific_Value = c[2,1]\n",
    "\n",
    "\n",
    "# specific_Column\n",
    "specific_col = c[: ,4 ]\n",
    "\n",
    "# specific_Colum_with_start_value\n",
    "specific_col_with_start_value = c[: 2 ,2 ]\n",
    "\n",
    "# specific_Row\n",
    "specific_Row = c[0 , : ]\n",
    "\n",
    "# specific_Row_with_start_value\n",
    "specific_Row_with_start_value = c[0 ,2  : ]\n",
    "print(\"Array => \\n\" ,c , \"\\n specific_value  => \" ,  specific_Value ,\n",
    "'\\n', \"specific_R0w  => \", specific_Row , \n",
    "'\\n',\"specific_Row_with_start_value => \" , specific_Row_with_start_value\n",
    "     , '\\n',\"specific_Column  => \", specific_col, \n",
    "'\\n',\"specific_Column_with_start_value => \" , specific_col_with_start_value )"
   ]
  },
  {
   "cell_type": "markdown",
   "metadata": {},
   "source": [
    "#### "
   ]
  },
  {
   "cell_type": "code",
   "execution_count": null,
   "metadata": {},
   "outputs": [],
   "source": [
    "def search(wod , para):\n",
    "    count = 0\n",
    "    for i in range(0 ,  len(para)):\n",
    "        if wod == para[i]:\n",
    "            s = para.replace(para[i] , \" \")\n",
    "            count = count + 1\n",
    "    print(\"count => \", count , \"s\"  )\n",
    "    \n",
    "            \n",
    "            \n",
    "        "
   ]
  },
  {
   "cell_type": "code",
   "execution_count": null,
   "metadata": {},
   "outputs": [],
   "source": [
    "search(\"usma\" , \"usma  umaima\")"
   ]
  },
  {
   "cell_type": "code",
   "execution_count": 47,
   "metadata": {},
   "outputs": [],
   "source": [
    "def search_count_replace(wod , para , add ):\n",
    "    count = 0\n",
    "    if wod in para:\n",
    "        replces = para.replace(wod , add )\n",
    "        count = para.count(wod)\n",
    "    print(f\"No OF {wod} in Paragrah is {count} \\n ADD some string {add} instead of {wod} \\nphara graph is {replces}\")"
   ]
  },
  {
   "cell_type": "code",
   "execution_count": 49,
   "metadata": {},
   "outputs": [
    {
     "name": "stdout",
     "output_type": "stream",
     "text": [
      "No OF u in Paragrah is 2 \n",
      " ADD some string o instead of u \n",
      "phara graph is osma osa\n"
     ]
    }
   ],
   "source": [
    "search_count_replace(\"u\" , \"usma usa\" , \"o\")"
   ]
  },
  {
   "cell_type": "code",
   "execution_count": 11,
   "metadata": {},
   "outputs": [
    {
     "name": "stdout",
     "output_type": "stream",
     "text": [
      "[3]\n"
     ]
    }
   ],
   "source": [
    "ls = [1,2,3,4]\n",
    "print(ls[:3])"
   ]
  },
  {
   "cell_type": "code",
   "execution_count": 36,
   "metadata": {},
   "outputs": [],
   "source": [
    "def serc(para , wod):\n",
    "    count=0\n",
    "    p=''\n",
    "    if wod in para:\n",
    "        print(\"true\")\n",
    "        for i in range(0 , len(para)):\n",
    "            print(para[i : len(wod)+i] , \"print \")\n",
    "            if (para[i : len(wod)+i] == wod):\n",
    "                p = para.replace(para[i : len(wod)+i] ,'')\n",
    "                count = count + 1\n",
    "    print(count , p)\n",
    "            \n",
    "    "
   ]
  },
  {
   "cell_type": "code",
   "execution_count": 37,
   "metadata": {},
   "outputs": [
    {
     "name": "stdout",
     "output_type": "stream",
     "text": [
      "true\n",
      "af print \n",
      "ff print \n",
      "fa print \n",
      "an print \n",
      "n  print \n",
      " a print \n",
      "af print \n",
      "ff print \n",
      "fa print \n",
      "an print \n",
      "n  print \n",
      " a print \n",
      "an print \n",
      "n  print \n",
      " a print \n",
      "an print \n",
      "na print \n",
      "a  print \n",
      " a print \n",
      "an print \n",
      "na print \n",
      "a print \n",
      "5 aff aff  a a\n"
     ]
    }
   ],
   "source": [
    "serc(\"affan affan an ana ana\" , \"an\")"
   ]
  },
  {
   "cell_type": "code",
   "execution_count": null,
   "metadata": {},
   "outputs": [],
   "source": []
  },
  {
   "cell_type": "code",
   "execution_count": null,
   "metadata": {},
   "outputs": [],
   "source": []
  }
 ],
 "metadata": {
  "kernelspec": {
   "display_name": "Python 3",
   "language": "python",
   "name": "python3"
  },
  "language_info": {
   "codemirror_mode": {
    "name": "ipython",
    "version": 3
   },
   "file_extension": ".py",
   "mimetype": "text/x-python",
   "name": "python",
   "nbconvert_exporter": "python",
   "pygments_lexer": "ipython3",
   "version": "3.8.5"
  }
 },
 "nbformat": 4,
 "nbformat_minor": 4
}
