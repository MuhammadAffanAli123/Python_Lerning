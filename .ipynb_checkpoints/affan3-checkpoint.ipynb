{
 "cells": [
  {
   "cell_type": "code",
   "execution_count": null,
   "metadata": {},
   "outputs": [],
   "source": [
    "mylist =[1,2,3,4]\n",
    "print(mylist)\n",
    "mymyslice=mylist[1:3]\n",
    "print(mymyslice)\n"
   ]
  },
  {
   "cell_type": "code",
   "execution_count": null,
   "metadata": {},
   "outputs": [],
   "source": [
    "mylist =[1,2,3,4,5,6,7,8]\n",
    "print(mylist)\n",
    "mymyslice=mylist[4:-5]\n",
    "print(mymyslice)"
   ]
  },
  {
   "cell_type": "code",
   "execution_count": null,
   "metadata": {},
   "outputs": [],
   "source": [
    "std =[\"affan\",\"ali\",\"usama\",\"raza\",\"faraz\" ,\"Ahmed\"\n",
    "     ]\n"
   ]
  },
  {
   "cell_type": "code",
   "execution_count": null,
   "metadata": {},
   "outputs": [],
   "source": []
  },
  {
   "cell_type": "code",
   "execution_count": null,
   "metadata": {},
   "outputs": [],
   "source": []
  },
  {
   "cell_type": "code",
   "execution_count": 1,
   "metadata": {},
   "outputs": [
    {
     "name": "stdout",
     "output_type": "stream",
     "text": [
      "enter Number of list3\n",
      "Enter Nameaffan\n",
      "Enter Nameraza\n",
      "Enter Nameusama\n",
      "['affan', 'raza', 'usama']\n"
     ]
    }
   ],
   "source": [
    "listing =[]\n",
    "n =int(input(\"enter Number of list\"))\n",
    "for i in range(0,n):\n",
    "    inputs = input(\"Enter Name\")\n",
    "    listing.append(inputs)\n",
    "print(listing)"
   ]
  },
  {
   "cell_type": "code",
   "execution_count": 4,
   "metadata": {},
   "outputs": [
    {
     "name": "stdout",
     "output_type": "stream",
     "text": [
      "I like {i} pizas\n",
      "I like {i} pizas\n",
      "I like {i} pizas\n"
     ]
    }
   ],
   "source": [
    "pizzas=[\"fajita\" , \"tikka\", \"vegetable\"]\n",
    "for i in pizzas:\n",
    "    print(\"I like {i} pizas\")"
   ]
  },
  {
   "cell_type": "code",
   "execution_count": 8,
   "metadata": {},
   "outputs": [
    {
     "name": "stdout",
     "output_type": "stream",
     "text": [
      "enter number5\n",
      "odd\n",
      "odd\n",
      "odd\n",
      "odd\n",
      "odd\n",
      "odd\n",
      "odd\n",
      "odd\n",
      "odd\n",
      "odd\n"
     ]
    }
   ],
   "source": [
    "num= int(input(\"enter number\"))\n",
    "for i in range(0,10):\n",
    "    if(num%2 == 0):\n",
    "        print(\"Even\")\n",
    "    else:\n",
    "        print(\"odd\")\n",
    "        "
   ]
  },
  {
   "cell_type": "code",
   "execution_count": 9,
   "metadata": {},
   "outputs": [
    {
     "name": "stdout",
     "output_type": "stream",
     "text": [
      "[1, 3, 5, 7, 9, 11, 13, 15, 17, 19, 21, 23, 25, 27, 29, 31, 33, 35, 37, 39, 41, 43, 45, 47, 49]\n"
     ]
    }
   ],
   "source": [
    "odd =[]\n",
    "even=[]\n",
    "\n",
    "for num in range(1,50):\n",
    "    if num%2 == 0:\n",
    "        even.append(num)\n",
    "    else:\n",
    "        odd.append(num)\n",
    "print(odd)"
   ]
  },
  {
   "cell_type": "code",
   "execution_count": 15,
   "metadata": {},
   "outputs": [
    {
     "name": "stdout",
     "output_type": "stream",
     "text": [
      "Enter Nameali\n",
      " No Availabel person\n"
     ]
    }
   ],
   "source": [
    "lists=[\"affan\",\"usama\",\"raza\"]\n",
    "Name =input(\"Enter Name\")\n",
    "if Name in lists:\n",
    "     print(\"Availabel person\")\n",
    "else:\n",
    "     print(\" No Availabel person\")\n",
    "       \n",
    "    \n",
    "    "
   ]
  },
  {
   "cell_type": "code",
   "execution_count": 17,
   "metadata": {},
   "outputs": [
    {
     "name": "stdout",
     "output_type": "stream",
     "text": [
      " No Availabel person\n"
     ]
    }
   ],
   "source": [
    "lists=[\"affan\",\"usama\",\"raza\"]\n",
    "list1=[\"affan\",\"ali\",\"huzaifa\"]\n",
    "if Name in lists:\n",
    "     print(\"Availabel person\")\n",
    "else:\n",
    "     print(\" No Availabel person\")\n"
   ]
  },
  {
   "cell_type": "code",
   "execution_count": 21,
   "metadata": {},
   "outputs": [
    {
     "name": "stdout",
     "output_type": "stream",
     "text": [
      "Addingaffan.\n",
      "Addingali.\n",
      "sorry ,we Dont havehuzaifa.\n"
     ]
    }
   ],
   "source": [
    "lists=[\"affan\",\"usama\",\"raza\",\"ali\",\"usama\" , \"huzaif\"]\n",
    "list1=[\"affan\",\"ali\",\"huzaifa\"]\n",
    "for i in list1:\n",
    "    if i in lists:\n",
    "        print(\"Adding\"+i+\".\")\n",
    "    else:\n",
    "        print(\"sorry ,we Dont have\"+i+\".\")\n",
    "        "
   ]
  },
  {
   "cell_type": "code",
   "execution_count": null,
   "metadata": {},
   "outputs": [],
   "source": []
  }
 ],
 "metadata": {
  "kernelspec": {
   "display_name": "Python 3",
   "language": "python",
   "name": "python3"
  },
  "language_info": {
   "codemirror_mode": {
    "name": "ipython",
    "version": 3
   },
   "file_extension": ".py",
   "mimetype": "text/x-python",
   "name": "python",
   "nbconvert_exporter": "python",
   "pygments_lexer": "ipython3",
   "version": "3.8.5"
  }
 },
 "nbformat": 4,
 "nbformat_minor": 4
}
