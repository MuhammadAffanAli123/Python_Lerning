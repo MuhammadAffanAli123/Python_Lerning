{
 "cells": [
  {
   "cell_type": "markdown",
   "metadata": {},
   "source": [
    "# Numpy Learning\n"
   ]
  },
  {
   "cell_type": "code",
   "execution_count": 3,
   "metadata": {},
   "outputs": [],
   "source": [
    "# import Numpy\n",
    "import numpy as np"
   ]
  },
  {
   "cell_type": "code",
   "execution_count": 4,
   "metadata": {},
   "outputs": [
    {
     "name": "stdout",
     "output_type": "stream",
     "text": [
      "[1 2 3] [[1 2 3 4]\n",
      " [5 2 1 4]\n",
      " [3 1 4 5]]\n"
     ]
    }
   ],
   "source": [
    "a=np.array([1,2,3] , dtype=\"int8\")\n",
    "b=np.array([[1,2,3,4] , [5,2,1,4] , [3,1,4,5]])\n",
    "print(a , b)"
   ]
  },
  {
   "cell_type": "code",
   "execution_count": 5,
   "metadata": {},
   "outputs": [
    {
     "data": {
      "text/plain": [
       "(3,)"
      ]
     },
     "execution_count": 5,
     "metadata": {},
     "output_type": "execute_result"
    }
   ],
   "source": [
    "# shape Dimension\n",
    "a.shape"
   ]
  },
  {
   "cell_type": "code",
   "execution_count": 6,
   "metadata": {},
   "outputs": [
    {
     "data": {
      "text/plain": [
       "dtype('int32')"
      ]
     },
     "execution_count": 6,
     "metadata": {},
     "output_type": "execute_result"
    }
   ],
   "source": [
    "# type\n",
    "b.dtype"
   ]
  },
  {
   "cell_type": "code",
   "execution_count": 7,
   "metadata": {},
   "outputs": [
    {
     "data": {
      "text/plain": [
       "2"
      ]
     },
     "execution_count": 7,
     "metadata": {},
     "output_type": "execute_result"
    }
   ],
   "source": [
    "# Dimension \n",
    "b.ndim"
   ]
  },
  {
   "cell_type": "code",
   "execution_count": 39,
   "metadata": {},
   "outputs": [
    {
     "name": "stdout",
     "output_type": "stream",
     "text": [
      "4 Item byte \n",
      " complete Byte\n",
      "48 = 48 Combine byte\n"
     ]
    }
   ],
   "source": [
    "# Size\n",
    "print(b.itemsize , \"Item byte\" , \"\\n\",\"complete Byte\")\n",
    "print(  b.size * b.itemsize , \"=\", b.nbytes, \"Combine byte\" )"
   ]
  },
  {
   "cell_type": "code",
   "execution_count": 8,
   "metadata": {},
   "outputs": [
    {
     "name": "stdout",
     "output_type": "stream",
     "text": [
      "Array => \n",
      " [[  1   2   3   4   5]\n",
      " [ -1  -2  -3  -4  -5]\n",
      " [-10 -20 -30 -40 -50]] \n",
      " specific_value  =>  -20 \n",
      "\n",
      " specific_R0w  =>  [5] \n",
      "\n",
      " specific_Row_with_start_value =>  [-2 -3] \n",
      "\n",
      " specific_Column  =>  [  5  -5 -50] \n",
      "\n",
      " specific_Column_with_start_value =>  [  2 -20]\n"
     ]
    }
   ],
   "source": [
    "# Get Specific Values\n",
    "import numpy as np\n",
    "a=np.array([1,2,3] , dtype=\"int8\")\n",
    "b=np.array([[1,2,3,4] , [5,2,1,4] , [3,1,4,5]])\n",
    "c =np.array([[1,2,3,4,5] , [-1,-2,-3,-4,-5] , [-10,-20,-30,-40,-50]])\n",
    "\n",
    "# specific_Value\n",
    "specific_Value = c[2,1]\n",
    "\n",
    "# specific_Row\n",
    "specific_Row = c[0 ,4 :5 :6]\n",
    "\n",
    "# specific_Row_with_start_value\n",
    "specific_Row_with_start_value = c[1 ,1:-2 ]\n",
    "\n",
    "\n",
    "# specific_Column\n",
    "specific_col = c[: ,4 ]\n",
    "\n",
    "# specific_Colum_with_start_value\n",
    "specific_col_with_start_value = c[0:3: 2 ,1 ]\n",
    "\n",
    "\n",
    "\n",
    "\n",
    "print(\"Array => \\n\" ,c , \"\\n specific_value  => \" ,  specific_Value ,\n",
    "'\\n\\n', \"specific_R0w  => \", specific_Row , \n",
    "'\\n\\n',\"specific_Row_with_start_value => \" , specific_Row_with_start_value\n",
    "     , '\\n\\n',\"specific_Column  => \", specific_col, \n",
    "'\\n\\n',\"specific_Column_with_start_value => \" , specific_col_with_start_value )"
   ]
  },
  {
   "cell_type": "markdown",
   "metadata": {},
   "source": [
    "#### "
   ]
  },
  {
   "cell_type": "code",
   "execution_count": 10,
   "metadata": {},
   "outputs": [
    {
     "name": "stdout",
     "output_type": "stream",
     "text": [
      "[[  1   2   3   4   5]\n",
      " [ -1  -2  -3  -4  -5]\n",
      " [-10 -20   5 -40 -50]]\n"
     ]
    }
   ],
   "source": [
    "c[2,2]=5\n",
    "print(c)"
   ]
  },
  {
   "cell_type": "code",
   "execution_count": 23,
   "metadata": {},
   "outputs": [
    {
     "name": "stdout",
     "output_type": "stream",
     "text": [
      "[[[ 1  2  3]\n",
      "  [ 4  5  6]]\n",
      "\n",
      " [[ 7  8  9]\n",
      "  [10 11 12]]]\n"
     ]
    }
   ],
   "source": [
    "# Multi Dimensional Array\n",
    "da =np.array([[[1,2,3] , [4,5,6]] , [[7,8,9] , [10,11,12]]])\n",
    "da.ndim\n",
    "print(da)"
   ]
  },
  {
   "cell_type": "markdown",
   "metadata": {},
   "source": [
    " "
   ]
  },
  {
   "cell_type": "code",
   "execution_count": 30,
   "metadata": {},
   "outputs": [
    {
     "data": {
      "text/plain": [
       "array([[[1, 2, 3],\n",
       "        [4, 5, 6]],\n",
       "\n",
       "       [[6, 3, 4],\n",
       "        [0, 0, 0]]])"
      ]
     },
     "execution_count": 30,
     "metadata": {},
     "output_type": "execute_result"
    }
   ],
   "source": [
    "da[1: 1 :2] = [[6,3,4],[0,0,0]]\n",
    "da"
   ]
  },
  {
   "cell_type": "code",
   "execution_count": 28,
   "metadata": {},
   "outputs": [
    {
     "data": {
      "text/plain": [
       "int"
      ]
     },
     "execution_count": 28,
     "metadata": {},
     "output_type": "execute_result"
    }
   ],
   "source": [
    "type (2021)"
   ]
  },
  {
   "cell_type": "code",
   "execution_count": 44,
   "metadata": {},
   "outputs": [],
   "source": [
    "tupple=(2021)"
   ]
  },
  {
   "cell_type": "code",
   "execution_count": 45,
   "metadata": {},
   "outputs": [
    {
     "data": {
      "text/plain": [
       "int"
      ]
     },
     "execution_count": 45,
     "metadata": {},
     "output_type": "execute_result"
    }
   ],
   "source": [
    "type(tupple)"
   ]
  },
  {
   "cell_type": "code",
   "execution_count": 40,
   "metadata": {},
   "outputs": [
    {
     "data": {
      "text/plain": [
       "array([[[[0., 0., 0., 0.],\n",
       "         [0., 0., 0., 0.],\n",
       "         [0., 0., 0., 0.]],\n",
       "\n",
       "        [[0., 0., 0., 0.],\n",
       "         [0., 0., 0., 0.],\n",
       "         [0., 0., 0., 0.]],\n",
       "\n",
       "        [[0., 0., 0., 0.],\n",
       "         [0., 0., 0., 0.],\n",
       "         [0., 0., 0., 0.]]],\n",
       "\n",
       "\n",
       "       [[[0., 0., 0., 0.],\n",
       "         [0., 0., 0., 0.],\n",
       "         [0., 0., 0., 0.]],\n",
       "\n",
       "        [[0., 0., 0., 0.],\n",
       "         [0., 0., 0., 0.],\n",
       "         [0., 0., 0., 0.]],\n",
       "\n",
       "        [[0., 0., 0., 0.],\n",
       "         [0., 0., 0., 0.],\n",
       "         [0., 0., 0., 0.]]]])"
      ]
     },
     "execution_count": 40,
     "metadata": {},
     "output_type": "execute_result"
    }
   ],
   "source": [
    "np.zeros((2,3 ,3 ,4))"
   ]
  },
  {
   "cell_type": "code",
   "execution_count": null,
   "metadata": {},
   "outputs": [],
   "source": []
  }
 ],
 "metadata": {
  "kernelspec": {
   "display_name": "Python 3",
   "language": "python",
   "name": "python3"
  },
  "language_info": {
   "codemirror_mode": {
    "name": "ipython",
    "version": 3
   },
   "file_extension": ".py",
   "mimetype": "text/x-python",
   "name": "python",
   "nbconvert_exporter": "python",
   "pygments_lexer": "ipython3",
   "version": "3.8.5"
  }
 },
 "nbformat": 4,
 "nbformat_minor": 4
}
