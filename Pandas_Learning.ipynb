{
 "cells": [
  {
   "cell_type": "markdown",
   "metadata": {},
   "source": [
    "# Pandas Learning"
   ]
  },
  {
   "cell_type": "code",
   "execution_count": 1,
   "metadata": {},
   "outputs": [
    {
     "data": {
      "text/plain": [
       "'1.1.3'"
      ]
     },
     "execution_count": 1,
     "metadata": {},
     "output_type": "execute_result"
    }
   ],
   "source": [
    "import pandas as pd\n",
    "import numpy as np\n",
    "pd.__version__"
   ]
  },
  {
   "cell_type": "code",
   "execution_count": 4,
   "metadata": {},
   "outputs": [
    {
     "data": {
      "text/plain": [
       "a     1\n",
       "b     8\n",
       "c    27\n",
       "d    64\n",
       "dtype: object"
      ]
     },
     "execution_count": 4,
     "metadata": {},
     "output_type": "execute_result"
    }
   ],
   "source": [
    "a=[1,2,3,4 ]\n",
    "b=pd.Series(a , index = [\"a\",\"b\",\"c\" ,\"d\"] , dtype=object )\n",
    "c=[1,2,3,4]\n",
    "d=pd.Series(a , index = [\"a\",\"b\",\"c\" ,\"d\"] )\n",
    "e = (b**2)*d\n",
    "e"
   ]
  },
  {
   "cell_type": "code",
   "execution_count": 28,
   "metadata": {},
   "outputs": [
    {
     "data": {
      "text/plain": [
       "pandas.core.series.Series"
      ]
     },
     "execution_count": 28,
     "metadata": {},
     "output_type": "execute_result"
    }
   ],
   "source": [
    "type (b)"
   ]
  },
  {
   "cell_type": "code",
   "execution_count": 36,
   "metadata": {},
   "outputs": [
    {
     "data": {
      "text/plain": [
       "64"
      ]
     },
     "execution_count": 36,
     "metadata": {},
     "output_type": "execute_result"
    }
   ],
   "source": [
    "max(e)"
   ]
  },
  {
   "cell_type": "code",
   "execution_count": 37,
   "metadata": {},
   "outputs": [
    {
     "data": {
      "text/plain": [
       "1"
      ]
     },
     "execution_count": 37,
     "metadata": {},
     "output_type": "execute_result"
    }
   ],
   "source": [
    "min(e)"
   ]
  },
  {
   "cell_type": "code",
   "execution_count": 42,
   "metadata": {},
   "outputs": [
    {
     "data": {
      "text/plain": [
       "a    1\n",
       "dtype: object"
      ]
     },
     "execution_count": 42,
     "metadata": {},
     "output_type": "execute_result"
    }
   ],
   "source": [
    "e[0:1]"
   ]
  },
  {
   "cell_type": "code",
   "execution_count": 14,
   "metadata": {},
   "outputs": [
    {
     "data": {
      "text/plain": [
       "a    1\n",
       "b    2\n",
       "dtype: object"
      ]
     },
     "execution_count": 14,
     "metadata": {},
     "output_type": "execute_result"
    }
   ],
   "source": [
    "b[ b <  3]"
   ]
  },
  {
   "cell_type": "code",
   "execution_count": 12,
   "metadata": {},
   "outputs": [
    {
     "data": {
      "text/plain": [
       "d    16\n",
       "dtype: object"
      ]
     },
     "execution_count": 12,
     "metadata": {},
     "output_type": "execute_result"
    }
   ],
   "source": [
    "(b*d)[(b*d) > 12]"
   ]
  },
  {
   "cell_type": "code",
   "execution_count": 18,
   "metadata": {},
   "outputs": [],
   "source": [
    "df = [['a','b' , 'c'],['d' ,'e','f']]\n",
    "df1=pd.DataFrame(df )"
   ]
  },
  {
   "cell_type": "code",
   "execution_count": 56,
   "metadata": {},
   "outputs": [
    {
     "data": {
      "text/html": [
       "<div>\n",
       "<style scoped>\n",
       "    .dataframe tbody tr th:only-of-type {\n",
       "        vertical-align: middle;\n",
       "    }\n",
       "\n",
       "    .dataframe tbody tr th {\n",
       "        vertical-align: top;\n",
       "    }\n",
       "\n",
       "    .dataframe thead th {\n",
       "        text-align: right;\n",
       "    }\n",
       "</style>\n",
       "<table border=\"1\" class=\"dataframe\">\n",
       "  <thead>\n",
       "    <tr style=\"text-align: right;\">\n",
       "      <th></th>\n",
       "      <th>0</th>\n",
       "      <th>1</th>\n",
       "      <th>2</th>\n",
       "    </tr>\n",
       "  </thead>\n",
       "  <tbody>\n",
       "    <tr>\n",
       "      <th>0</th>\n",
       "      <td>a</td>\n",
       "      <td>b</td>\n",
       "      <td>c</td>\n",
       "    </tr>\n",
       "    <tr>\n",
       "      <th>1</th>\n",
       "      <td>d</td>\n",
       "      <td>e</td>\n",
       "      <td>f</td>\n",
       "    </tr>\n",
       "  </tbody>\n",
       "</table>\n",
       "</div>"
      ],
      "text/plain": [
       "   0  1  2\n",
       "0  a  b  c\n",
       "1  d  e  f"
      ]
     },
     "execution_count": 56,
     "metadata": {},
     "output_type": "execute_result"
    }
   ],
   "source": [
    "df1"
   ]
  },
  {
   "cell_type": "code",
   "execution_count": 54,
   "metadata": {},
   "outputs": [
    {
     "data": {
      "text/plain": [
       "{'label': [1, 2, 3],\n",
       " 'value': ['45Rs', '70RS', '60RS'],\n",
       " 'index': [6, 7, 8],\n",
       " ' name': ['Affan', '6', '7']}"
      ]
     },
     "execution_count": 54,
     "metadata": {},
     "output_type": "execute_result"
    }
   ],
   "source": [
    "dics = {\"label\":[1,2,3 ] , \"value\":[\"45Rs\" , \"70RS\" , \"60RS\"] , \"index\":[6,7,8,] ,\" name\":[\"Affan\",\"6\",\"7\"]  }\n",
    "dics"
   ]
  },
  {
   "cell_type": "code",
   "execution_count": 58,
   "metadata": {},
   "outputs": [
    {
     "data": {
      "text/html": [
       "<div>\n",
       "<style scoped>\n",
       "    .dataframe tbody tr th:only-of-type {\n",
       "        vertical-align: middle;\n",
       "    }\n",
       "\n",
       "    .dataframe tbody tr th {\n",
       "        vertical-align: top;\n",
       "    }\n",
       "\n",
       "    .dataframe thead th {\n",
       "        text-align: right;\n",
       "    }\n",
       "</style>\n",
       "<table border=\"1\" class=\"dataframe\">\n",
       "  <thead>\n",
       "    <tr style=\"text-align: right;\">\n",
       "      <th></th>\n",
       "      <th>label</th>\n",
       "      <th>value</th>\n",
       "      <th>index</th>\n",
       "      <th>name</th>\n",
       "    </tr>\n",
       "  </thead>\n",
       "  <tbody>\n",
       "    <tr>\n",
       "      <th>1</th>\n",
       "      <td>1</td>\n",
       "      <td>45Rs</td>\n",
       "      <td>6</td>\n",
       "      <td>Affan</td>\n",
       "    </tr>\n",
       "    <tr>\n",
       "      <th>2</th>\n",
       "      <td>2</td>\n",
       "      <td>70RS</td>\n",
       "      <td>7</td>\n",
       "      <td>6</td>\n",
       "    </tr>\n",
       "    <tr>\n",
       "      <th>3</th>\n",
       "      <td>3</td>\n",
       "      <td>60RS</td>\n",
       "      <td>8</td>\n",
       "      <td>7</td>\n",
       "    </tr>\n",
       "  </tbody>\n",
       "</table>\n",
       "</div>"
      ],
      "text/plain": [
       "   label value  index   name\n",
       "1      1  45Rs      6  Affan\n",
       "2      2  70RS      7      6\n",
       "3      3  60RS      8      7"
      ]
     },
     "execution_count": 58,
     "metadata": {},
     "output_type": "execute_result"
    }
   ],
   "source": [
    "dic1 = pd.DataFrame(dics , index=[1,2,3,])\n",
    "dic1 "
   ]
  },
  {
   "cell_type": "code",
   "execution_count": 61,
   "metadata": {},
   "outputs": [
    {
     "data": {
      "text/html": [
       "<div>\n",
       "<style scoped>\n",
       "    .dataframe tbody tr th:only-of-type {\n",
       "        vertical-align: middle;\n",
       "    }\n",
       "\n",
       "    .dataframe tbody tr th {\n",
       "        vertical-align: top;\n",
       "    }\n",
       "\n",
       "    .dataframe thead th {\n",
       "        text-align: right;\n",
       "    }\n",
       "</style>\n",
       "<table border=\"1\" class=\"dataframe\">\n",
       "  <thead>\n",
       "    <tr style=\"text-align: right;\">\n",
       "      <th></th>\n",
       "      <th>S.No</th>\n",
       "      <th>Name</th>\n",
       "      <th>Class</th>\n",
       "      <th>Age</th>\n",
       "    </tr>\n",
       "  </thead>\n",
       "  <tbody>\n",
       "    <tr>\n",
       "      <th>0</th>\n",
       "      <td>1</td>\n",
       "      <td>Affan</td>\n",
       "      <td>6</td>\n",
       "      <td>12</td>\n",
       "    </tr>\n",
       "    <tr>\n",
       "      <th>1</th>\n",
       "      <td>2</td>\n",
       "      <td>faraz</td>\n",
       "      <td>5</td>\n",
       "      <td>32</td>\n",
       "    </tr>\n",
       "    <tr>\n",
       "      <th>2</th>\n",
       "      <td>3</td>\n",
       "      <td>usama</td>\n",
       "      <td>2</td>\n",
       "      <td>12</td>\n",
       "    </tr>\n",
       "    <tr>\n",
       "      <th>3</th>\n",
       "      <td>4</td>\n",
       "      <td>khalid</td>\n",
       "      <td>3</td>\n",
       "      <td>32</td>\n",
       "    </tr>\n",
       "  </tbody>\n",
       "</table>\n",
       "</div>"
      ],
      "text/plain": [
       "   S.No    Name  Class  Age\n",
       "0     1   Affan      6   12\n",
       "1     2   faraz      5   32\n",
       "2     3   usama      2   12\n",
       "3     4  khalid      3   32"
      ]
     },
     "execution_count": 61,
     "metadata": {},
     "output_type": "execute_result"
    }
   ],
   "source": [
    "pd.read_csv('C:\\\\Users\\\\HP\\\\Desktop\\\\Book1.csv')"
   ]
  },
  {
   "cell_type": "code",
   "execution_count": 21,
   "metadata": {
    "scrolled": true
   },
   "outputs": [],
   "source": [
    "df =pd.read_csv('C:\\\\Users\\\\HP\\\\Desktop\\\\myfile.csv')"
   ]
  },
  {
   "cell_type": "code",
   "execution_count": 8,
   "metadata": {},
   "outputs": [
    {
     "data": {
      "text/plain": [
       "(904, 42)"
      ]
     },
     "execution_count": 8,
     "metadata": {},
     "output_type": "execute_result"
    }
   ],
   "source": [
    "df.shape"
   ]
  },
  {
   "cell_type": "code",
   "execution_count": 11,
   "metadata": {},
   "outputs": [
    {
     "data": {
      "text/plain": [
       "37968"
      ]
     },
     "execution_count": 11,
     "metadata": {},
     "output_type": "execute_result"
    }
   ],
   "source": [
    "df.size"
   ]
  },
  {
   "cell_type": "code",
   "execution_count": 12,
   "metadata": {},
   "outputs": [
    {
     "name": "stdout",
     "output_type": "stream",
     "text": [
      "<class 'pandas.core.frame.DataFrame'>\n",
      "RangeIndex: 904 entries, 0 to 903\n",
      "Data columns (total 42 columns):\n",
      " #   Column        Non-Null Count  Dtype \n",
      "---  ------        --------------  ----- \n",
      " 0   Customer      904 non-null    object\n",
      " 1   SC            904 non-null    int64 \n",
      " 2   GW            904 non-null    int64 \n",
      " 3   FW            904 non-null    int64 \n",
      " 4   Design        904 non-null    object\n",
      " 5   Color         904 non-null    object\n",
      " 6   Version       904 non-null    object\n",
      " 7   LD #          904 non-null    object\n",
      " 8   Process       904 non-null    object\n",
      " 9   Lot #         904 non-null    object\n",
      " 10  Issue Date    904 non-null    object\n",
      " 11  G Issue       904 non-null    object\n",
      " 12  Pile          904 non-null    object\n",
      " 13  Desize        904 non-null    object\n",
      " 14  Bleach        904 non-null    object\n",
      " 15  JT            904 non-null    object\n",
      " 16  S 4 Mer       904 non-null    object\n",
      " 17  Mer           904 non-null    object\n",
      " 18  Eql           904 non-null    object\n",
      " 19  Print         904 non-null    object\n",
      " 20  Bal Print     904 non-null    object\n",
      " 21  Dyeing        904 non-null    object\n",
      " 22  Bal Dye       904 non-null    object\n",
      " 23  Wash          904 non-null    object\n",
      " 24  Cure          904 non-null    object\n",
      " 25  Steam         904 non-null    object\n",
      " 26  Finish        904 non-null    object\n",
      " 27  Bal Finish    904 non-null    object\n",
      " 28  Calen         904 non-null    object\n",
      " 29  Sanfo         904 non-null    object\n",
      " 30  FFD           904 non-null    object\n",
      " 31  FFD Date      904 non-null    object\n",
      " 32  Bal FFD       904 non-null    object\n",
      " 33  FFD%          904 non-null    object\n",
      " 34  Hold          904 non-null    int64 \n",
      " 35  Roll          904 non-null    object\n",
      " 36  Rolling Date  904 non-null    object\n",
      " 37  Bal Roll      904 non-null    object\n",
      " 38  WH            904 non-null    object\n",
      " 39  WH Date       904 non-null    object\n",
      " 40  WH%           904 non-null    object\n",
      " 41  Lot Closing   904 non-null    object\n",
      "dtypes: int64(4), object(38)\n",
      "memory usage: 296.8+ KB\n"
     ]
    }
   ],
   "source": [
    "df.info()"
   ]
  },
  {
   "cell_type": "code",
   "execution_count": 20,
   "metadata": {},
   "outputs": [],
   "source": [
    "pd.set_option('display.max_column' , 42)"
   ]
  },
  {
   "cell_type": "code",
   "execution_count": 22,
   "metadata": {},
   "outputs": [],
   "source": [
    "schemaS =pd.read_csv('C:\\\\Users\\\\HP\\\\Desktop\\\\myfile.csv')"
   ]
  },
  {
   "cell_type": "code",
   "execution_count": 23,
   "metadata": {},
   "outputs": [
    {
     "data": {
      "text/html": [
       "<div>\n",
       "<style scoped>\n",
       "    .dataframe tbody tr th:only-of-type {\n",
       "        vertical-align: middle;\n",
       "    }\n",
       "\n",
       "    .dataframe tbody tr th {\n",
       "        vertical-align: top;\n",
       "    }\n",
       "\n",
       "    .dataframe thead th {\n",
       "        text-align: right;\n",
       "    }\n",
       "</style>\n",
       "<table border=\"1\" class=\"dataframe\">\n",
       "  <thead>\n",
       "    <tr style=\"text-align: right;\">\n",
       "      <th></th>\n",
       "      <th>Customer</th>\n",
       "      <th>SC</th>\n",
       "      <th>GW</th>\n",
       "      <th>FW</th>\n",
       "      <th>Design</th>\n",
       "      <th>Color</th>\n",
       "      <th>Version</th>\n",
       "      <th>LD #</th>\n",
       "      <th>Process</th>\n",
       "      <th>Lot #</th>\n",
       "      <th>Issue Date</th>\n",
       "      <th>G Issue</th>\n",
       "      <th>Pile</th>\n",
       "      <th>Desize</th>\n",
       "      <th>Bleach</th>\n",
       "      <th>JT</th>\n",
       "      <th>S 4 Mer</th>\n",
       "      <th>Mer</th>\n",
       "      <th>Eql</th>\n",
       "      <th>Print</th>\n",
       "      <th>Bal Print</th>\n",
       "      <th>Dyeing</th>\n",
       "      <th>Bal Dye</th>\n",
       "      <th>Wash</th>\n",
       "      <th>Cure</th>\n",
       "      <th>Steam</th>\n",
       "      <th>Finish</th>\n",
       "      <th>Bal Finish</th>\n",
       "      <th>Calen</th>\n",
       "      <th>Sanfo</th>\n",
       "      <th>FFD</th>\n",
       "      <th>FFD Date</th>\n",
       "      <th>Bal FFD</th>\n",
       "      <th>FFD%</th>\n",
       "      <th>Hold</th>\n",
       "      <th>Roll</th>\n",
       "      <th>Rolling Date</th>\n",
       "      <th>Bal Roll</th>\n",
       "      <th>WH</th>\n",
       "      <th>WH Date</th>\n",
       "      <th>WH%</th>\n",
       "      <th>Lot Closing</th>\n",
       "    </tr>\n",
       "  </thead>\n",
       "  <tbody>\n",
       "    <tr>\n",
       "      <th>0</th>\n",
       "      <td>Alkaram Studio</td>\n",
       "      <td>51754</td>\n",
       "      <td>63</td>\n",
       "      <td>56</td>\n",
       "      <td>OP-046</td>\n",
       "      <td>Brown</td>\n",
       "      <td>03-0016/ BROWN /</td>\n",
       "      <td>03-0016/</td>\n",
       "      <td>Dyeing</td>\n",
       "      <td>AKOS-2630D</td>\n",
       "      <td>12-Sep-19</td>\n",
       "      <td>2,023</td>\n",
       "      <td>0</td>\n",
       "      <td>0</td>\n",
       "      <td>0</td>\n",
       "      <td>0</td>\n",
       "      <td>0</td>\n",
       "      <td>0</td>\n",
       "      <td>0</td>\n",
       "      <td>0</td>\n",
       "      <td>2,023</td>\n",
       "      <td>0</td>\n",
       "      <td>2,023</td>\n",
       "      <td>0</td>\n",
       "      <td>0</td>\n",
       "      <td>0</td>\n",
       "      <td>0</td>\n",
       "      <td>2,023</td>\n",
       "      <td>0</td>\n",
       "      <td>0</td>\n",
       "      <td>0</td>\n",
       "      <td>0-Jan-00</td>\n",
       "      <td>2,023</td>\n",
       "      <td>0%</td>\n",
       "      <td>0</td>\n",
       "      <td>0</td>\n",
       "      <td>0-Jan-00</td>\n",
       "      <td>2,023</td>\n",
       "      <td>0</td>\n",
       "      <td>0-Jan-00</td>\n",
       "      <td>0%</td>\n",
       "      <td>N</td>\n",
       "    </tr>\n",
       "    <tr>\n",
       "      <th>1</th>\n",
       "      <td>Alkaram Studio</td>\n",
       "      <td>51754</td>\n",
       "      <td>63</td>\n",
       "      <td>56</td>\n",
       "      <td>OP-046</td>\n",
       "      <td>Chocolate</td>\n",
       "      <td>04-0538/01 CHOCOLATE /</td>\n",
       "      <td>04-0538/01</td>\n",
       "      <td>Dyeing</td>\n",
       "      <td>AKOS-2630C</td>\n",
       "      <td>12-Sep-19</td>\n",
       "      <td>2,400</td>\n",
       "      <td>0</td>\n",
       "      <td>0</td>\n",
       "      <td>0</td>\n",
       "      <td>0</td>\n",
       "      <td>0</td>\n",
       "      <td>0</td>\n",
       "      <td>0</td>\n",
       "      <td>0</td>\n",
       "      <td>2,400</td>\n",
       "      <td>0</td>\n",
       "      <td>2,400</td>\n",
       "      <td>0</td>\n",
       "      <td>0</td>\n",
       "      <td>0</td>\n",
       "      <td>0</td>\n",
       "      <td>2,400</td>\n",
       "      <td>0</td>\n",
       "      <td>0</td>\n",
       "      <td>0</td>\n",
       "      <td>0-Jan-00</td>\n",
       "      <td>2,400</td>\n",
       "      <td>0%</td>\n",
       "      <td>0</td>\n",
       "      <td>0</td>\n",
       "      <td>0-Jan-00</td>\n",
       "      <td>2,400</td>\n",
       "      <td>0</td>\n",
       "      <td>0-Jan-00</td>\n",
       "      <td>0%</td>\n",
       "      <td>N</td>\n",
       "    </tr>\n",
       "    <tr>\n",
       "      <th>2</th>\n",
       "      <td>Alkaram Studio</td>\n",
       "      <td>51754</td>\n",
       "      <td>63</td>\n",
       "      <td>56</td>\n",
       "      <td>OP-046</td>\n",
       "      <td>Light Grey</td>\n",
       "      <td>03-0687/01 LIGHT GREY /</td>\n",
       "      <td>03-0687/01</td>\n",
       "      <td>Dyeing</td>\n",
       "      <td>AKOS-2630B</td>\n",
       "      <td>12-Sep-19</td>\n",
       "      <td>2,400</td>\n",
       "      <td>0</td>\n",
       "      <td>0</td>\n",
       "      <td>0</td>\n",
       "      <td>0</td>\n",
       "      <td>0</td>\n",
       "      <td>0</td>\n",
       "      <td>0</td>\n",
       "      <td>0</td>\n",
       "      <td>2,400</td>\n",
       "      <td>0</td>\n",
       "      <td>2,400</td>\n",
       "      <td>0</td>\n",
       "      <td>0</td>\n",
       "      <td>0</td>\n",
       "      <td>0</td>\n",
       "      <td>2,400</td>\n",
       "      <td>0</td>\n",
       "      <td>0</td>\n",
       "      <td>0</td>\n",
       "      <td>0-Jan-00</td>\n",
       "      <td>2,400</td>\n",
       "      <td>0%</td>\n",
       "      <td>0</td>\n",
       "      <td>0</td>\n",
       "      <td>0-Jan-00</td>\n",
       "      <td>2,400</td>\n",
       "      <td>0</td>\n",
       "      <td>0-Jan-00</td>\n",
       "      <td>0%</td>\n",
       "      <td>N</td>\n",
       "    </tr>\n",
       "    <tr>\n",
       "      <th>3</th>\n",
       "      <td>Alkaram Studio</td>\n",
       "      <td>51754</td>\n",
       "      <td>63</td>\n",
       "      <td>56</td>\n",
       "      <td>OP-046</td>\n",
       "      <td>Navy</td>\n",
       "      <td>SBD-1513  / Navy</td>\n",
       "      <td>SBD-1513</td>\n",
       "      <td>Dyeing</td>\n",
       "      <td>AKOS-2630A</td>\n",
       "      <td>12-Sep-19</td>\n",
       "      <td>2,400</td>\n",
       "      <td>0</td>\n",
       "      <td>0</td>\n",
       "      <td>0</td>\n",
       "      <td>0</td>\n",
       "      <td>0</td>\n",
       "      <td>0</td>\n",
       "      <td>0</td>\n",
       "      <td>0</td>\n",
       "      <td>2,400</td>\n",
       "      <td>0</td>\n",
       "      <td>2,400</td>\n",
       "      <td>0</td>\n",
       "      <td>0</td>\n",
       "      <td>0</td>\n",
       "      <td>0</td>\n",
       "      <td>2,400</td>\n",
       "      <td>0</td>\n",
       "      <td>0</td>\n",
       "      <td>0</td>\n",
       "      <td>0-Jan-00</td>\n",
       "      <td>2,400</td>\n",
       "      <td>0%</td>\n",
       "      <td>0</td>\n",
       "      <td>0</td>\n",
       "      <td>0-Jan-00</td>\n",
       "      <td>2,400</td>\n",
       "      <td>0</td>\n",
       "      <td>0-Jan-00</td>\n",
       "      <td>0%</td>\n",
       "      <td>N</td>\n",
       "    </tr>\n",
       "    <tr>\n",
       "      <th>4</th>\n",
       "      <td>Alkaram Studio</td>\n",
       "      <td>51754</td>\n",
       "      <td>63</td>\n",
       "      <td>56</td>\n",
       "      <td>OP-046</td>\n",
       "      <td>Sky Blue</td>\n",
       "      <td>05-0614/02 SKY BLUE /</td>\n",
       "      <td>05-0614/02</td>\n",
       "      <td>Dyeing</td>\n",
       "      <td>AKOS-2630</td>\n",
       "      <td>12-Sep-19</td>\n",
       "      <td>2,400</td>\n",
       "      <td>0</td>\n",
       "      <td>0</td>\n",
       "      <td>0</td>\n",
       "      <td>0</td>\n",
       "      <td>0</td>\n",
       "      <td>0</td>\n",
       "      <td>0</td>\n",
       "      <td>0</td>\n",
       "      <td>2,400</td>\n",
       "      <td>0</td>\n",
       "      <td>2,400</td>\n",
       "      <td>0</td>\n",
       "      <td>0</td>\n",
       "      <td>0</td>\n",
       "      <td>0</td>\n",
       "      <td>2,400</td>\n",
       "      <td>0</td>\n",
       "      <td>0</td>\n",
       "      <td>0</td>\n",
       "      <td>0-Jan-00</td>\n",
       "      <td>2,400</td>\n",
       "      <td>0%</td>\n",
       "      <td>0</td>\n",
       "      <td>0</td>\n",
       "      <td>0-Jan-00</td>\n",
       "      <td>2,400</td>\n",
       "      <td>0</td>\n",
       "      <td>0-Jan-00</td>\n",
       "      <td>0%</td>\n",
       "      <td>N</td>\n",
       "    </tr>\n",
       "    <tr>\n",
       "      <th>...</th>\n",
       "      <td>...</td>\n",
       "      <td>...</td>\n",
       "      <td>...</td>\n",
       "      <td>...</td>\n",
       "      <td>...</td>\n",
       "      <td>...</td>\n",
       "      <td>...</td>\n",
       "      <td>...</td>\n",
       "      <td>...</td>\n",
       "      <td>...</td>\n",
       "      <td>...</td>\n",
       "      <td>...</td>\n",
       "      <td>...</td>\n",
       "      <td>...</td>\n",
       "      <td>...</td>\n",
       "      <td>...</td>\n",
       "      <td>...</td>\n",
       "      <td>...</td>\n",
       "      <td>...</td>\n",
       "      <td>...</td>\n",
       "      <td>...</td>\n",
       "      <td>...</td>\n",
       "      <td>...</td>\n",
       "      <td>...</td>\n",
       "      <td>...</td>\n",
       "      <td>...</td>\n",
       "      <td>...</td>\n",
       "      <td>...</td>\n",
       "      <td>...</td>\n",
       "      <td>...</td>\n",
       "      <td>...</td>\n",
       "      <td>...</td>\n",
       "      <td>...</td>\n",
       "      <td>...</td>\n",
       "      <td>...</td>\n",
       "      <td>...</td>\n",
       "      <td>...</td>\n",
       "      <td>...</td>\n",
       "      <td>...</td>\n",
       "      <td>...</td>\n",
       "      <td>...</td>\n",
       "      <td>...</td>\n",
       "    </tr>\n",
       "    <tr>\n",
       "      <th>899</th>\n",
       "      <td>M/S Sale Dept.</td>\n",
       "      <td>57164</td>\n",
       "      <td>48</td>\n",
       "      <td>42</td>\n",
       "      <td>SS-20-FN-8</td>\n",
       "      <td>Mustard</td>\n",
       "      <td>FP-192626/2 SS20 FN 08 SHIRT BUSSER/2-MUSTARD</td>\n",
       "      <td>FP-192626/2</td>\n",
       "      <td>BUSSER PRINTING</td>\n",
       "      <td>AKOS-4037</td>\n",
       "      <td>17-Oct-19</td>\n",
       "      <td>14,047</td>\n",
       "      <td>14,047</td>\n",
       "      <td>14,047</td>\n",
       "      <td>14,047</td>\n",
       "      <td>0</td>\n",
       "      <td>0</td>\n",
       "      <td>0</td>\n",
       "      <td>0</td>\n",
       "      <td>0</td>\n",
       "      <td>14,047</td>\n",
       "      <td>0</td>\n",
       "      <td>14,047</td>\n",
       "      <td>0</td>\n",
       "      <td>0</td>\n",
       "      <td>0</td>\n",
       "      <td>0</td>\n",
       "      <td>14,047</td>\n",
       "      <td>0</td>\n",
       "      <td>0</td>\n",
       "      <td>0</td>\n",
       "      <td>0-Jan-00</td>\n",
       "      <td>14,047</td>\n",
       "      <td>0%</td>\n",
       "      <td>0</td>\n",
       "      <td>0</td>\n",
       "      <td>0-Jan-00</td>\n",
       "      <td>14,047</td>\n",
       "      <td>0</td>\n",
       "      <td>0-Jan-00</td>\n",
       "      <td>0%</td>\n",
       "      <td>N</td>\n",
       "    </tr>\n",
       "    <tr>\n",
       "      <th>900</th>\n",
       "      <td>M/S Sale Dept.</td>\n",
       "      <td>57166</td>\n",
       "      <td>48</td>\n",
       "      <td>42</td>\n",
       "      <td>SS-20-FN-17</td>\n",
       "      <td>Green</td>\n",
       "      <td>FP-192622/1 SS20 FN 17 SHIRT FLAT/1-GREEN</td>\n",
       "      <td>FP-192622/1</td>\n",
       "      <td>FLATBED PRINTING</td>\n",
       "      <td>AKOS-3934</td>\n",
       "      <td>15-Oct-19</td>\n",
       "      <td>14,039</td>\n",
       "      <td>14,039</td>\n",
       "      <td>14,039</td>\n",
       "      <td>14,039</td>\n",
       "      <td>0</td>\n",
       "      <td>14,039</td>\n",
       "      <td>0</td>\n",
       "      <td>0</td>\n",
       "      <td>0</td>\n",
       "      <td>14,039</td>\n",
       "      <td>0</td>\n",
       "      <td>14,039</td>\n",
       "      <td>0</td>\n",
       "      <td>0</td>\n",
       "      <td>0</td>\n",
       "      <td>0</td>\n",
       "      <td>14,039</td>\n",
       "      <td>0</td>\n",
       "      <td>0</td>\n",
       "      <td>0</td>\n",
       "      <td>0-Jan-00</td>\n",
       "      <td>14,039</td>\n",
       "      <td>0%</td>\n",
       "      <td>0</td>\n",
       "      <td>0</td>\n",
       "      <td>0-Jan-00</td>\n",
       "      <td>14,039</td>\n",
       "      <td>0</td>\n",
       "      <td>0-Jan-00</td>\n",
       "      <td>0%</td>\n",
       "      <td>N</td>\n",
       "    </tr>\n",
       "    <tr>\n",
       "      <th>901</th>\n",
       "      <td>M/S Sale Dept.</td>\n",
       "      <td>57166</td>\n",
       "      <td>48</td>\n",
       "      <td>42</td>\n",
       "      <td>SS-20-FN-17</td>\n",
       "      <td>Purple</td>\n",
       "      <td>FP-192622/2 SS20 FN 17 SHIRT FLAT/2-PURPLE</td>\n",
       "      <td>FP-192622/2</td>\n",
       "      <td>FLATBED PRINTING</td>\n",
       "      <td>AKOS-3916</td>\n",
       "      <td>14-Oct-19</td>\n",
       "      <td>14,037</td>\n",
       "      <td>14,037</td>\n",
       "      <td>14,000</td>\n",
       "      <td>14,000</td>\n",
       "      <td>0</td>\n",
       "      <td>14,000</td>\n",
       "      <td>14,000</td>\n",
       "      <td>14,000</td>\n",
       "      <td>0</td>\n",
       "      <td>14,037</td>\n",
       "      <td>0</td>\n",
       "      <td>14,037</td>\n",
       "      <td>0</td>\n",
       "      <td>0</td>\n",
       "      <td>0</td>\n",
       "      <td>0</td>\n",
       "      <td>14,037</td>\n",
       "      <td>0</td>\n",
       "      <td>0</td>\n",
       "      <td>0</td>\n",
       "      <td>0-Jan-00</td>\n",
       "      <td>14,037</td>\n",
       "      <td>0%</td>\n",
       "      <td>0</td>\n",
       "      <td>0</td>\n",
       "      <td>0-Jan-00</td>\n",
       "      <td>14,037</td>\n",
       "      <td>0</td>\n",
       "      <td>0-Jan-00</td>\n",
       "      <td>0%</td>\n",
       "      <td>N</td>\n",
       "    </tr>\n",
       "    <tr>\n",
       "      <th>902</th>\n",
       "      <td>M/S Sale Dept.</td>\n",
       "      <td>57168</td>\n",
       "      <td>47</td>\n",
       "      <td>42</td>\n",
       "      <td>FW-FN-37</td>\n",
       "      <td>Colorway #1</td>\n",
       "      <td>06-0061/01 BLACK /</td>\n",
       "      <td>06-0061/01</td>\n",
       "      <td>Dyeing</td>\n",
       "      <td>AK-4015</td>\n",
       "      <td>17-Oct-19</td>\n",
       "      <td>4,271</td>\n",
       "      <td>4,271</td>\n",
       "      <td>4,271</td>\n",
       "      <td>4,271</td>\n",
       "      <td>0</td>\n",
       "      <td>4,271</td>\n",
       "      <td>0</td>\n",
       "      <td>0</td>\n",
       "      <td>0</td>\n",
       "      <td>4,271</td>\n",
       "      <td>0</td>\n",
       "      <td>4,271</td>\n",
       "      <td>0</td>\n",
       "      <td>0</td>\n",
       "      <td>0</td>\n",
       "      <td>0</td>\n",
       "      <td>4,271</td>\n",
       "      <td>0</td>\n",
       "      <td>0</td>\n",
       "      <td>0</td>\n",
       "      <td>0-Jan-00</td>\n",
       "      <td>4,271</td>\n",
       "      <td>0%</td>\n",
       "      <td>0</td>\n",
       "      <td>0</td>\n",
       "      <td>0-Jan-00</td>\n",
       "      <td>4,271</td>\n",
       "      <td>0</td>\n",
       "      <td>0-Jan-00</td>\n",
       "      <td>0%</td>\n",
       "      <td>N</td>\n",
       "    </tr>\n",
       "    <tr>\n",
       "      <th>903</th>\n",
       "      <td>M/S Sale Dept.</td>\n",
       "      <td>57168</td>\n",
       "      <td>47</td>\n",
       "      <td>42</td>\n",
       "      <td>FW-FN-37</td>\n",
       "      <td>Colorway #2</td>\n",
       "      <td>06-0061/01 BLACK /</td>\n",
       "      <td>06-0061/01</td>\n",
       "      <td>Dyeing</td>\n",
       "      <td>AK-4015A</td>\n",
       "      <td>17-Oct-19</td>\n",
       "      <td>4,271</td>\n",
       "      <td>4,271</td>\n",
       "      <td>4,271</td>\n",
       "      <td>4,271</td>\n",
       "      <td>0</td>\n",
       "      <td>4,271</td>\n",
       "      <td>0</td>\n",
       "      <td>0</td>\n",
       "      <td>0</td>\n",
       "      <td>4,271</td>\n",
       "      <td>0</td>\n",
       "      <td>4,271</td>\n",
       "      <td>0</td>\n",
       "      <td>0</td>\n",
       "      <td>0</td>\n",
       "      <td>0</td>\n",
       "      <td>4,271</td>\n",
       "      <td>0</td>\n",
       "      <td>0</td>\n",
       "      <td>0</td>\n",
       "      <td>0-Jan-00</td>\n",
       "      <td>4,271</td>\n",
       "      <td>0%</td>\n",
       "      <td>0</td>\n",
       "      <td>0</td>\n",
       "      <td>0-Jan-00</td>\n",
       "      <td>4,271</td>\n",
       "      <td>0</td>\n",
       "      <td>0-Jan-00</td>\n",
       "      <td>0%</td>\n",
       "      <td>N</td>\n",
       "    </tr>\n",
       "  </tbody>\n",
       "</table>\n",
       "<p>904 rows × 42 columns</p>\n",
       "</div>"
      ],
      "text/plain": [
       "           Customer     SC  GW  FW       Design         Color  \\\n",
       "0    Alkaram Studio  51754  63  56       OP-046         Brown   \n",
       "1    Alkaram Studio  51754  63  56       OP-046     Chocolate   \n",
       "2    Alkaram Studio  51754  63  56       OP-046    Light Grey   \n",
       "3    Alkaram Studio  51754  63  56       OP-046          Navy   \n",
       "4    Alkaram Studio  51754  63  56       OP-046      Sky Blue   \n",
       "..              ...    ...  ..  ..          ...           ...   \n",
       "899  M/S Sale Dept.  57164  48  42   SS-20-FN-8       Mustard   \n",
       "900  M/S Sale Dept.  57166  48  42  SS-20-FN-17         Green   \n",
       "901  M/S Sale Dept.  57166  48  42  SS-20-FN-17        Purple   \n",
       "902  M/S Sale Dept.  57168  47  42     FW-FN-37  Colorway #1    \n",
       "903  M/S Sale Dept.  57168  47  42     FW-FN-37   Colorway #2   \n",
       "\n",
       "                                             Version           LD #  \\\n",
       "0                                03-0016/ BROWN /         03-0016/    \n",
       "1                          04-0538/01 CHOCOLATE /       04-0538/01    \n",
       "2                         03-0687/01 LIGHT GREY /       03-0687/01    \n",
       "3                                  SBD-1513  / Navy       SBD-1513    \n",
       "4                           05-0614/02 SKY BLUE /       05-0614/02    \n",
       "..                                               ...            ...   \n",
       "899  FP-192626/2 SS20 FN 08 SHIRT BUSSER/2-MUSTARD    FP-192626/2     \n",
       "900      FP-192622/1 SS20 FN 17 SHIRT FLAT/1-GREEN    FP-192622/1     \n",
       "901     FP-192622/2 SS20 FN 17 SHIRT FLAT/2-PURPLE    FP-192622/2     \n",
       "902                            06-0061/01 BLACK /       06-0061/01    \n",
       "903                            06-0061/01 BLACK /       06-0061/01    \n",
       "\n",
       "              Process       Lot # Issue Date G Issue    Pile  Desize  Bleach  \\\n",
       "0              Dyeing  AKOS-2630D  12-Sep-19   2,023       0       0       0   \n",
       "1              Dyeing  AKOS-2630C  12-Sep-19   2,400       0       0       0   \n",
       "2              Dyeing  AKOS-2630B  12-Sep-19   2,400       0       0       0   \n",
       "3              Dyeing  AKOS-2630A  12-Sep-19   2,400       0       0       0   \n",
       "4              Dyeing   AKOS-2630  12-Sep-19   2,400       0       0       0   \n",
       "..                ...         ...        ...     ...     ...     ...     ...   \n",
       "899   BUSSER PRINTING   AKOS-4037  17-Oct-19  14,047  14,047  14,047  14,047   \n",
       "900  FLATBED PRINTING   AKOS-3934  15-Oct-19  14,039  14,039  14,039  14,039   \n",
       "901  FLATBED PRINTING   AKOS-3916  14-Oct-19  14,037  14,037  14,000  14,000   \n",
       "902            Dyeing     AK-4015  17-Oct-19   4,271   4,271   4,271   4,271   \n",
       "903            Dyeing    AK-4015A  17-Oct-19   4,271   4,271   4,271   4,271   \n",
       "\n",
       "    JT S 4 Mer     Mer     Eql Print Bal Print Dyeing Bal Dye Wash Cure Steam  \\\n",
       "0    0       0       0       0     0     2,023      0   2,023    0    0     0   \n",
       "1    0       0       0       0     0     2,400      0   2,400    0    0     0   \n",
       "2    0       0       0       0     0     2,400      0   2,400    0    0     0   \n",
       "3    0       0       0       0     0     2,400      0   2,400    0    0     0   \n",
       "4    0       0       0       0     0     2,400      0   2,400    0    0     0   \n",
       "..  ..     ...     ...     ...   ...       ...    ...     ...  ...  ...   ...   \n",
       "899  0       0       0       0     0    14,047      0  14,047    0    0     0   \n",
       "900  0  14,039       0       0     0    14,039      0  14,039    0    0     0   \n",
       "901  0  14,000  14,000  14,000     0    14,037      0  14,037    0    0     0   \n",
       "902  0   4,271       0       0     0     4,271      0   4,271    0    0     0   \n",
       "903  0   4,271       0       0     0     4,271      0   4,271    0    0     0   \n",
       "\n",
       "    Finish Bal Finish Calen Sanfo FFD  FFD Date Bal FFD FFD%  Hold Roll  \\\n",
       "0        0      2,023     0     0   0  0-Jan-00   2,023   0%     0    0   \n",
       "1        0      2,400     0     0   0  0-Jan-00   2,400   0%     0    0   \n",
       "2        0      2,400     0     0   0  0-Jan-00   2,400   0%     0    0   \n",
       "3        0      2,400     0     0   0  0-Jan-00   2,400   0%     0    0   \n",
       "4        0      2,400     0     0   0  0-Jan-00   2,400   0%     0    0   \n",
       "..     ...        ...   ...   ...  ..       ...     ...  ...   ...  ...   \n",
       "899      0     14,047     0     0   0  0-Jan-00  14,047   0%     0    0   \n",
       "900      0     14,039     0     0   0  0-Jan-00  14,039   0%     0    0   \n",
       "901      0     14,037     0     0   0  0-Jan-00  14,037   0%     0    0   \n",
       "902      0      4,271     0     0   0  0-Jan-00   4,271   0%     0    0   \n",
       "903      0      4,271     0     0   0  0-Jan-00   4,271   0%     0    0   \n",
       "\n",
       "    Rolling Date Bal Roll WH   WH Date WH% Lot Closing  \n",
       "0       0-Jan-00    2,023  0  0-Jan-00  0%           N  \n",
       "1       0-Jan-00    2,400  0  0-Jan-00  0%           N  \n",
       "2       0-Jan-00    2,400  0  0-Jan-00  0%           N  \n",
       "3       0-Jan-00    2,400  0  0-Jan-00  0%           N  \n",
       "4       0-Jan-00    2,400  0  0-Jan-00  0%           N  \n",
       "..           ...      ... ..       ...  ..         ...  \n",
       "899     0-Jan-00   14,047  0  0-Jan-00  0%           N  \n",
       "900     0-Jan-00   14,039  0  0-Jan-00  0%           N  \n",
       "901     0-Jan-00   14,037  0  0-Jan-00  0%           N  \n",
       "902     0-Jan-00    4,271  0  0-Jan-00  0%           N  \n",
       "903     0-Jan-00    4,271  0  0-Jan-00  0%           N  \n",
       "\n",
       "[904 rows x 42 columns]"
      ]
     },
     "execution_count": 23,
     "metadata": {},
     "output_type": "execute_result"
    }
   ],
   "source": [
    "schemaS"
   ]
  },
  {
   "cell_type": "code",
   "execution_count": 12,
   "metadata": {},
   "outputs": [],
   "source": [
    "pan_dic = {\n",
    "    \"first\" :pd.Series([100,101,102,103] , index=[\"chair\" , \"books\" , \"Notes\",\"register\"]),\n",
    "    \"second\" : pd.Series([200,201,202,203] , index=[\"chair\" , \"books\" , \"Notes\",\"register\"]),\n",
    "     \"3\" :pd.Series([100,101,102,103] , index=[\"chair\" , \"books\" , \"Notes\",\"register\"]),\n",
    "    \"4\" : pd.Series([200,201,202,203] , index=[\"chair\" , \"books\" , \"Notes\",\"register\"]),\n",
    "     \"5\" :pd.Series([100,101,102,103] , index=[\"chair\" , \"books\" , \"Notes\",\"register\"]),\n",
    "    \"6\" : pd.Series([200,201,202,203] , index=[\"chair\" , \"books\" , \"Notes\",\"register\"]),\n",
    "     \"7\" :pd.Series([100,101,102,103] , index=[\"chair\" , \"books\" , \"Notes\",\"register\"]),\n",
    "    \"8\" : pd.Series([200,201,202,203] , index=[\"chair\" , \"books\" , \"Notes\",\"register\"]),\n",
    "     \"9\" :pd.Series([100,101,102,103] , index=[\"chair\" , \"books\" , \"Notes\",\"register\"]),\n",
    "    \"10\": pd.Series([200,201,202,203] , index=[\"chair\" , \"books\" , \"Notes\",\"register\"]),\n",
    "     \"11\":pd.Series([100,101,102,103] , index=[\"chair\" , \"books\" , \"Notes\",\"register\"]),\n",
    "    \"12\": pd.Series([200,201,202,203] , index=[\"chair\" , \"books\" , \"Notes\",\"register\"]),\n",
    "     \"13\":pd.Series([100,101,102,103,104],index=[\"chair\" , \"books\" , \"Notes\",\"register\" , \"pen\"]),\n",
    "    \"14\": pd.Series([200,201,202,203] , index=[\"chair\" , \"books\" , \"Notes\",\"register\"]),\n",
    "}"
   ]
  },
  {
   "cell_type": "code",
   "execution_count": 13,
   "metadata": {},
   "outputs": [
    {
     "data": {
      "text/html": [
       "<div>\n",
       "<style scoped>\n",
       "    .dataframe tbody tr th:only-of-type {\n",
       "        vertical-align: middle;\n",
       "    }\n",
       "\n",
       "    .dataframe tbody tr th {\n",
       "        vertical-align: top;\n",
       "    }\n",
       "\n",
       "    .dataframe thead th {\n",
       "        text-align: right;\n",
       "    }\n",
       "</style>\n",
       "<table border=\"1\" class=\"dataframe\">\n",
       "  <thead>\n",
       "    <tr style=\"text-align: right;\">\n",
       "      <th></th>\n",
       "      <th>first</th>\n",
       "      <th>second</th>\n",
       "      <th>3</th>\n",
       "      <th>4</th>\n",
       "      <th>5</th>\n",
       "      <th>6</th>\n",
       "      <th>7</th>\n",
       "      <th>8</th>\n",
       "      <th>9</th>\n",
       "      <th>10</th>\n",
       "      <th>11</th>\n",
       "      <th>12</th>\n",
       "      <th>13</th>\n",
       "      <th>14</th>\n",
       "    </tr>\n",
       "  </thead>\n",
       "  <tbody>\n",
       "    <tr>\n",
       "      <th>Notes</th>\n",
       "      <td>102.0</td>\n",
       "      <td>202.0</td>\n",
       "      <td>102.0</td>\n",
       "      <td>202.0</td>\n",
       "      <td>102.0</td>\n",
       "      <td>202.0</td>\n",
       "      <td>102.0</td>\n",
       "      <td>202.0</td>\n",
       "      <td>102.0</td>\n",
       "      <td>202.0</td>\n",
       "      <td>102.0</td>\n",
       "      <td>202.0</td>\n",
       "      <td>102</td>\n",
       "      <td>202.0</td>\n",
       "    </tr>\n",
       "    <tr>\n",
       "      <th>books</th>\n",
       "      <td>101.0</td>\n",
       "      <td>201.0</td>\n",
       "      <td>101.0</td>\n",
       "      <td>201.0</td>\n",
       "      <td>101.0</td>\n",
       "      <td>201.0</td>\n",
       "      <td>101.0</td>\n",
       "      <td>201.0</td>\n",
       "      <td>101.0</td>\n",
       "      <td>201.0</td>\n",
       "      <td>101.0</td>\n",
       "      <td>201.0</td>\n",
       "      <td>101</td>\n",
       "      <td>201.0</td>\n",
       "    </tr>\n",
       "    <tr>\n",
       "      <th>chair</th>\n",
       "      <td>100.0</td>\n",
       "      <td>200.0</td>\n",
       "      <td>100.0</td>\n",
       "      <td>200.0</td>\n",
       "      <td>100.0</td>\n",
       "      <td>200.0</td>\n",
       "      <td>100.0</td>\n",
       "      <td>200.0</td>\n",
       "      <td>100.0</td>\n",
       "      <td>200.0</td>\n",
       "      <td>100.0</td>\n",
       "      <td>200.0</td>\n",
       "      <td>100</td>\n",
       "      <td>200.0</td>\n",
       "    </tr>\n",
       "    <tr>\n",
       "      <th>pen</th>\n",
       "      <td>NaN</td>\n",
       "      <td>NaN</td>\n",
       "      <td>NaN</td>\n",
       "      <td>NaN</td>\n",
       "      <td>NaN</td>\n",
       "      <td>NaN</td>\n",
       "      <td>NaN</td>\n",
       "      <td>NaN</td>\n",
       "      <td>NaN</td>\n",
       "      <td>NaN</td>\n",
       "      <td>NaN</td>\n",
       "      <td>NaN</td>\n",
       "      <td>104</td>\n",
       "      <td>NaN</td>\n",
       "    </tr>\n",
       "    <tr>\n",
       "      <th>register</th>\n",
       "      <td>103.0</td>\n",
       "      <td>203.0</td>\n",
       "      <td>103.0</td>\n",
       "      <td>203.0</td>\n",
       "      <td>103.0</td>\n",
       "      <td>203.0</td>\n",
       "      <td>103.0</td>\n",
       "      <td>203.0</td>\n",
       "      <td>103.0</td>\n",
       "      <td>203.0</td>\n",
       "      <td>103.0</td>\n",
       "      <td>203.0</td>\n",
       "      <td>103</td>\n",
       "      <td>203.0</td>\n",
       "    </tr>\n",
       "  </tbody>\n",
       "</table>\n",
       "</div>"
      ],
      "text/plain": [
       "          first  second      3      4      5      6      7      8      9  \\\n",
       "Notes     102.0   202.0  102.0  202.0  102.0  202.0  102.0  202.0  102.0   \n",
       "books     101.0   201.0  101.0  201.0  101.0  201.0  101.0  201.0  101.0   \n",
       "chair     100.0   200.0  100.0  200.0  100.0  200.0  100.0  200.0  100.0   \n",
       "pen         NaN     NaN    NaN    NaN    NaN    NaN    NaN    NaN    NaN   \n",
       "register  103.0   203.0  103.0  203.0  103.0  203.0  103.0  203.0  103.0   \n",
       "\n",
       "             10     11     12   13     14  \n",
       "Notes     202.0  102.0  202.0  102  202.0  \n",
       "books     201.0  101.0  201.0  101  201.0  \n",
       "chair     200.0  100.0  200.0  100  200.0  \n",
       "pen         NaN    NaN    NaN  104    NaN  \n",
       "register  203.0  103.0  203.0  103  203.0  "
      ]
     },
     "execution_count": 13,
     "metadata": {},
     "output_type": "execute_result"
    }
   ],
   "source": [
    "df = pd.DataFrame(pan_dic)\n",
    "df"
   ]
  },
  {
   "cell_type": "code",
   "execution_count": 14,
   "metadata": {},
   "outputs": [
    {
     "data": {
      "text/plain": [
       "Index(['Notes', 'books', 'chair', 'pen', 'register'], dtype='object')"
      ]
     },
     "execution_count": 14,
     "metadata": {},
     "output_type": "execute_result"
    }
   ],
   "source": [
    "df.index"
   ]
  },
  {
   "cell_type": "code",
   "execution_count": 18,
   "metadata": {},
   "outputs": [
    {
     "data": {
      "text/plain": [
       "2"
      ]
     },
     "execution_count": 18,
     "metadata": {},
     "output_type": "execute_result"
    }
   ],
   "source": [
    "df.ndim"
   ]
  },
  {
   "cell_type": "code",
   "execution_count": 23,
   "metadata": {},
   "outputs": [
    {
     "data": {
      "text/plain": [
       "Index(['first', 'second', '3', '4', '5', '6', '7', '8', '9', '10', '11', '12',\n",
       "       '13', '14'],\n",
       "      dtype='object')"
      ]
     },
     "execution_count": 23,
     "metadata": {},
     "output_type": "execute_result"
    }
   ],
   "source": [
    "df.columns"
   ]
  },
  {
   "cell_type": "code",
   "execution_count": 31,
   "metadata": {},
   "outputs": [
    {
     "data": {
      "text/html": [
       "<div>\n",
       "<style scoped>\n",
       "    .dataframe tbody tr th:only-of-type {\n",
       "        vertical-align: middle;\n",
       "    }\n",
       "\n",
       "    .dataframe tbody tr th {\n",
       "        vertical-align: top;\n",
       "    }\n",
       "\n",
       "    .dataframe thead th {\n",
       "        text-align: right;\n",
       "    }\n",
       "</style>\n",
       "<table border=\"1\" class=\"dataframe\">\n",
       "  <thead>\n",
       "    <tr style=\"text-align: right;\">\n",
       "      <th></th>\n",
       "      <th>first</th>\n",
       "      <th>5</th>\n",
       "    </tr>\n",
       "  </thead>\n",
       "  <tbody>\n",
       "    <tr>\n",
       "      <th>Notes</th>\n",
       "      <td>102.0</td>\n",
       "      <td>102.0</td>\n",
       "    </tr>\n",
       "    <tr>\n",
       "      <th>chair</th>\n",
       "      <td>100.0</td>\n",
       "      <td>100.0</td>\n",
       "    </tr>\n",
       "  </tbody>\n",
       "</table>\n",
       "</div>"
      ],
      "text/plain": [
       "       first      5\n",
       "Notes  102.0  102.0\n",
       "chair  100.0  100.0"
      ]
     },
     "execution_count": 31,
     "metadata": {},
     "output_type": "execute_result"
    }
   ],
   "source": [
    "\n",
    "pd.DataFrame(df ,  index=[\"Notes\" , \"chair\"] , columns =['first' , '5'])"
   ]
  },
  {
   "cell_type": "markdown",
   "metadata": {},
   "source": [
    "# we can learn Data fram with Airthmtic logic\n"
   ]
  },
  {
   "cell_type": "code",
   "execution_count": 2,
   "metadata": {},
   "outputs": [],
   "source": [
    " arr = np.array([3.7, -1.2, -2.6, 0.5, 12.9, 10.1])"
   ]
  },
  {
   "cell_type": "code",
   "execution_count": 3,
   "metadata": {},
   "outputs": [
    {
     "data": {
      "text/plain": [
       "array([ 3, -1, -2,  0, 12, 10])"
      ]
     },
     "execution_count": 3,
     "metadata": {},
     "output_type": "execute_result"
    }
   ],
   "source": [
    "arr.astype(np.int32)"
   ]
  },
  {
   "cell_type": "code",
   "execution_count": 4,
   "metadata": {},
   "outputs": [
    {
     "data": {
      "text/plain": [
       "array([ 3.7, -1.2, -2.6,  0.5, 12.9, 10.1])"
      ]
     },
     "execution_count": 4,
     "metadata": {},
     "output_type": "execute_result"
    }
   ],
   "source": [
    " arr.astype(np.float)"
   ]
  },
  {
   "cell_type": "code",
   "execution_count": 5,
   "metadata": {},
   "outputs": [],
   "source": [
    "int_array = np.arange(10)"
   ]
  },
  {
   "cell_type": "code",
   "execution_count": 6,
   "metadata": {},
   "outputs": [
    {
     "data": {
      "text/plain": [
       "array([0, 1, 2, 3, 4, 5, 6, 7, 8, 9])"
      ]
     },
     "execution_count": 6,
     "metadata": {},
     "output_type": "execute_result"
    }
   ],
   "source": [
    "int_array"
   ]
  },
  {
   "cell_type": "code",
   "execution_count": 7,
   "metadata": {},
   "outputs": [],
   "source": [
    "a =np.array([2,3,4])"
   ]
  },
  {
   "cell_type": "code",
   "execution_count": 8,
   "metadata": {},
   "outputs": [
    {
     "data": {
      "text/plain": [
       "array([2, 3, 4])"
      ]
     },
     "execution_count": 8,
     "metadata": {},
     "output_type": "execute_result"
    }
   ],
   "source": [
    "a"
   ]
  },
  {
   "cell_type": "code",
   "execution_count": 16,
   "metadata": {},
   "outputs": [],
   "source": [
    "empty_uint32 = np.empty(8, dtype='u4')"
   ]
  },
  {
   "cell_type": "code",
   "execution_count": 17,
   "metadata": {},
   "outputs": [
    {
     "data": {
      "text/plain": [
       "array([2037674093, 1935764768,  543450475, 1634890337, 1769414777,\n",
       "       1629513844, 1696623724, 1701668204], dtype=uint32)"
      ]
     },
     "execution_count": 17,
     "metadata": {},
     "output_type": "execute_result"
    }
   ],
   "source": [
    "empty_uint32"
   ]
  },
  {
   "cell_type": "code",
   "execution_count": null,
   "metadata": {},
   "outputs": [],
   "source": []
  }
 ],
 "metadata": {
  "kernelspec": {
   "display_name": "Python 3",
   "language": "python",
   "name": "python3"
  },
  "language_info": {
   "codemirror_mode": {
    "name": "ipython",
    "version": 3
   },
   "file_extension": ".py",
   "mimetype": "text/x-python",
   "name": "python",
   "nbconvert_exporter": "python",
   "pygments_lexer": "ipython3",
   "version": "3.8.5"
  }
 },
 "nbformat": 4,
 "nbformat_minor": 4
}
